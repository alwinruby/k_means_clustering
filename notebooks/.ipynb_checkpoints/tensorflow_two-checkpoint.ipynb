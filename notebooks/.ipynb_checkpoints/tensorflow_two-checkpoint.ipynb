{
 "cells": [
  {
   "cell_type": "code",
   "execution_count": 1,
   "metadata": {},
   "outputs": [
    {
     "name": "stdout",
     "output_type": "stream",
     "text": [
      "dyld: Library not loaded: /System/Library/Frameworks/CoreFoundation.framework/Versions/A/CoreFoundation\n",
      "  Referenced from: /Library/Frameworks/Python.framework/Versions/3.6/Resources/Python.app/Contents/MacOS/Python\n",
      "  Reason: image not found\n",
      "Model: \"sequential_1\"\n",
      "_________________________________________________________________\n",
      " Layer (type)                Output Shape              Param #   \n",
      "=================================================================\n",
      " dense_1 (Dense)             (None, 20)                420       \n",
      "                                                                 \n",
      " flatten_1 (Flatten)         (None, 20)                0         \n",
      "                                                                 \n",
      "=================================================================\n",
      "Total params: 420\n",
      "Trainable params: 420\n",
      "Non-trainable params: 0\n",
      "_________________________________________________________________\n",
      "1/1 [==============================] - 1s 535ms/step - loss: 2.1222 - accuracy: 0.0000e+00\n"
     ]
    }
   ],
   "source": [
    "! pip install -q tensorflow-model-optimization\n",
    "\n",
    "import tensorflow as tf\n",
    "import numpy as np\n",
    "import tempfile\n",
    "import os\n",
    "import tensorflow_model_optimization as tfmot\n",
    "\n",
    "input_dim = 20\n",
    "output_dim = 20\n",
    "x_train = np.random.randn(1, input_dim).astype(np.float32)\n",
    "y_train = tf.keras.utils.to_categorical(np.random.randn(1), num_classes=output_dim)\n",
    "\n",
    "def setup_model():\n",
    "    model = tf.keras.Sequential([\n",
    "        tf.keras.layers.Dense(input_dim, input_shape=[input_dim]),\n",
    "        tf.keras.layers.Flatten()\n",
    "    ])\n",
    "    return model\n",
    "\n",
    "def train_model(model):\n",
    "    model.compile(\n",
    "        loss=tf.keras.losses.categorical_crossentropy,\n",
    "        optimizer='adam',\n",
    "        metrics=['accuracy']\n",
    "    )\n",
    "    model.summary()\n",
    "    model.fit(x_train, y_train)\n",
    "    return model\n",
    "\n",
    "def save_model_weights(model):\n",
    "    _, pretrained_weights = tempfile.mkstemp('.h5')\n",
    "    model.save_weights(pretrained_weights)\n",
    "    return pretrained_weights\n",
    "\n",
    "def setup_pretrained_weights():\n",
    "    model= setup_model()\n",
    "    model = train_model(model)\n",
    "    pretrained_weights = save_model_weights(model)\n",
    "    return pretrained_weights\n",
    "\n",
    "def setup_pretrained_model():\n",
    "    model = setup_model()\n",
    "    pretrained_weights = setup_pretrained_weights()\n",
    "    model.load_weights(pretrained_weights)\n",
    "    return model\n",
    "\n",
    "def save_model_file(model):\n",
    "    _, keras_file = tempfile.mkstemp('.h5') \n",
    "    model.save(keras_file, include_optimizer=False)\n",
    "    return keras_file\n",
    "\n",
    "def get_gzipped_model_size(model):\n",
    "    # It returns the size of the gzipped model in bytes.\n",
    "    import os\n",
    "    import zipfile\n",
    "\n",
    "    keras_file = save_model_file(model)\n",
    "\n",
    "    _, zipped_file = tempfile.mkstemp('.zip')\n",
    "    with zipfile.ZipFile(zipped_file, 'w', compression=zipfile.ZIP_DEFLATED) as f:\n",
    "        f.write(keras_file)\n",
    "    return os.path.getsize(zipped_file)\n",
    "\n",
    "setup_model()\n",
    "pretrained_weights = setup_pretrained_weights()"
   ]
  },
  {
   "cell_type": "code",
   "execution_count": 2,
   "metadata": {},
   "outputs": [
    {
     "name": "stdout",
     "output_type": "stream",
     "text": [
      "Model: \"sequential_2\"\n",
      "_________________________________________________________________\n",
      " Layer (type)                Output Shape              Param #   \n",
      "=================================================================\n",
      " cluster_dense_2 (ClusterWei  (None, 20)               823       \n",
      " ghts)                                                           \n",
      "                                                                 \n",
      " cluster_flatten_2 (ClusterW  (None, 20)               0         \n",
      " eights)                                                         \n",
      "                                                                 \n",
      "=================================================================\n",
      "Total params: 823\n",
      "Trainable params: 423\n",
      "Non-trainable params: 400\n",
      "_________________________________________________________________\n"
     ]
    }
   ],
   "source": [
    "# Cluster a whole model (sequential and functional)\n",
    "import tensorflow_model_optimization as tfmot\n",
    "\n",
    "cluster_weights = tfmot.clustering.keras.cluster_weights\n",
    "CentroidInitialization = tfmot.clustering.keras.CentroidInitialization\n",
    "\n",
    "clustering_params = {\n",
    "    'number_of_clusters': 3,\n",
    "    'cluster_centroids_init': CentroidInitialization.KMEANS_PLUS_PLUS\n",
    "}\n",
    "\n",
    "model = setup_model()\n",
    "model.load_weights(pretrained_weights)\n",
    "\n",
    "clustered_model = cluster_weights(model, **clustering_params)\n",
    "\n",
    "clustered_model.summary()"
   ]
  },
  {
   "cell_type": "code",
   "execution_count": 3,
   "metadata": {},
   "outputs": [
    {
     "name": "stdout",
     "output_type": "stream",
     "text": [
      "Model: \"sequential_3\"\n",
      "_________________________________________________________________\n",
      " Layer (type)                Output Shape              Param #   \n",
      "=================================================================\n",
      " cluster_dense_3 (ClusterWei  (None, 20)               823       \n",
      " ghts)                                                           \n",
      "                                                                 \n",
      " flatten_3 (Flatten)         (None, 20)                0         \n",
      "                                                                 \n",
      "=================================================================\n",
      "Total params: 823\n",
      "Trainable params: 423\n",
      "Non-trainable params: 400\n",
      "_________________________________________________________________\n"
     ]
    }
   ],
   "source": [
    "# Cluster some layers (sequential and functional models)\n",
    "# Create a base model\n",
    "base_model = setup_model()\n",
    "base_model.load_weights(pretrained_weights)\n",
    "\n",
    "# Helper function uses `cluster_weights` to make only \n",
    "# the Dense layers train with clustering\n",
    "def apply_clustering_to_dense(layer):\n",
    "    if isinstance(layer, tf.keras.layers.Dense):\n",
    "        return cluster_weights(layer, **clustering_params)\n",
    "    return layer\n",
    "\n",
    "# Use `tf.keras.models.clone_model` to apply `apply_clustering_to_dense` \n",
    "# to the layers of the model.\n",
    "clustered_model = tf.keras.models.clone_model(\n",
    "    base_model,\n",
    "    clone_function=apply_clustering_to_dense,\n",
    ")\n",
    "\n",
    "clustered_model.summary()"
   ]
  },
  {
   "cell_type": "code",
   "execution_count": 4,
   "metadata": {},
   "outputs": [
    {
     "name": "stdout",
     "output_type": "stream",
     "text": [
      "Model: \"sequential_4\"\n",
      "_________________________________________________________________\n",
      " Layer (type)                Output Shape              Param #   \n",
      "=================================================================\n",
      " cluster_my_dense_layer (Clu  (None, 20)               846       \n",
      " sterWeights)                                                    \n",
      "                                                                 \n",
      " flatten_4 (Flatten)         (None, 20)                0         \n",
      "                                                                 \n",
      "=================================================================\n",
      "Total params: 846\n",
      "Trainable params: 426\n",
      "Non-trainable params: 420\n",
      "_________________________________________________________________\n"
     ]
    }
   ],
   "source": [
    "# Cluster custom Keras layer or specify which weights of layer to cluster\n",
    "class MyDenseLayer(tf.keras.layers.Dense, tfmot.clustering.keras.ClusterableLayer):\n",
    "\n",
    "    def get_clusterable_weights(self):\n",
    "        # Cluster kernel and bias. This is just an example, clustering\n",
    "        # bias usually hurts model accuracy.\n",
    "        return [('kernel', self.kernel), ('bias', self.bias)]\n",
    "\n",
    "# Use `cluster_weights` to make the `MyDenseLayer` layer train with clustering as usual.\n",
    "model_for_clustering = tf.keras.Sequential([\n",
    "  tfmot.clustering.keras.cluster_weights(MyDenseLayer(20, input_shape=[input_dim]), **clustering_params),\n",
    "  tf.keras.layers.Flatten()\n",
    "])\n",
    "\n",
    "model_for_clustering.summary()"
   ]
  },
  {
   "cell_type": "code",
   "execution_count": 5,
   "metadata": {},
   "outputs": [
    {
     "name": "stdout",
     "output_type": "stream",
     "text": [
      "WARNING:tensorflow:Compiled the loaded model, but the compiled metrics have yet to be built. `model.compile_metrics` will be empty until you train or evaluate the model.\n",
      "WARNING:tensorflow:No training configuration found in the save file, so the model was *not* compiled. Compile it manually.\n",
      "Model: \"sequential_5\"\n",
      "_________________________________________________________________\n",
      " Layer (type)                Output Shape              Param #   \n",
      "=================================================================\n",
      " cluster_dense_4 (ClusterWei  (None, 20)               823       \n",
      " ghts)                                                           \n",
      "                                                                 \n",
      " cluster_flatten_5 (ClusterW  (None, 20)               0         \n",
      " eights)                                                         \n",
      "                                                                 \n",
      "=================================================================\n",
      "Total params: 823\n",
      "Trainable params: 423\n",
      "Non-trainable params: 400\n",
      "_________________________________________________________________\n"
     ]
    }
   ],
   "source": [
    "#Checkpoint and deserialize a clustered model\n",
    "# Define the model.\n",
    "base_model = setup_model()\n",
    "base_model.load_weights(pretrained_weights)\n",
    "clustered_model = cluster_weights(base_model, **clustering_params)\n",
    "\n",
    "# Save or checkpoint the model.\n",
    "_, keras_model_file = tempfile.mkstemp('.h5')\n",
    "clustered_model.save(keras_model_file, include_optimizer=True)\n",
    "\n",
    "# `cluster_scope` is needed for deserializing HDF5 models.\n",
    "with tfmot.clustering.keras.cluster_scope():\n",
    "    loaded_model = tf.keras.models.load_model(keras_model_file)\n",
    "\n",
    "loaded_model.summary()"
   ]
  },
  {
   "cell_type": "code",
   "execution_count": 6,
   "metadata": {},
   "outputs": [
    {
     "name": "stdout",
     "output_type": "stream",
     "text": [
      "1/1 [==============================] - 5s 5s/step - loss: 16.1181 - accuracy: 1.0000\n",
      "final model\n",
      "Model: \"sequential_6\"\n",
      "_________________________________________________________________\n",
      " Layer (type)                Output Shape              Param #   \n",
      "=================================================================\n",
      " dense_5 (Dense)             (None, 20)                420       \n",
      "                                                                 \n",
      " flatten_6 (Flatten)         (None, 20)                0         \n",
      "                                                                 \n",
      "=================================================================\n",
      "Total params: 420\n",
      "Trainable params: 420\n",
      "Non-trainable params: 0\n",
      "_________________________________________________________________\n",
      "\n",
      "\n",
      "Size of gzipped clustered model without stripping: 3551.00 bytes\n",
      "WARNING:tensorflow:Compiled the loaded model, but the compiled metrics have yet to be built. `model.compile_metrics` will be empty until you train or evaluate the model.\n",
      "Size of gzipped clustered model with stripping: 1550.00 bytes\n"
     ]
    }
   ],
   "source": [
    "# Deployment\n",
    "# Export model with size compression\n",
    "model = setup_model()\n",
    "clustered_model = cluster_weights(model, **clustering_params)\n",
    "\n",
    "clustered_model.compile(\n",
    "                        loss=tf.keras.losses.categorical_crossentropy, \n",
    "                        optimizer='adam',\n",
    "                        metrics=['accuracy']\n",
    ")\n",
    "\n",
    "clustered_model.fit(x_train, y_train)\n",
    "\n",
    "final_model = tfmot.clustering.keras.strip_clustering(clustered_model)\n",
    "\n",
    "print(\"final model\")\n",
    "final_model.summary()\n",
    "\n",
    "print(\"\\n\")\n",
    "print(\"Size of gzipped clustered model without stripping: %.2f bytes\" \n",
    "      % (get_gzipped_model_size(clustered_model)))\n",
    "print(\"Size of gzipped clustered model with stripping: %.2f bytes\" \n",
    "      % (get_gzipped_model_size(final_model)))"
   ]
  },
  {
   "cell_type": "code",
   "execution_count": null,
   "metadata": {},
   "outputs": [],
   "source": []
  }
 ],
 "metadata": {
  "kernelspec": {
   "display_name": "Python 3",
   "language": "python",
   "name": "python3"
  },
  "language_info": {
   "codemirror_mode": {
    "name": "ipython",
    "version": 3
   },
   "file_extension": ".py",
   "mimetype": "text/x-python",
   "name": "python",
   "nbconvert_exporter": "python",
   "pygments_lexer": "ipython3",
   "version": "3.8.3"
  }
 },
 "nbformat": 4,
 "nbformat_minor": 4
}
