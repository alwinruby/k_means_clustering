{
 "cells": [
  {
   "cell_type": "code",
   "execution_count": 1,
   "id": "d1b81bab",
   "metadata": {},
   "outputs": [
    {
     "name": "stdout",
     "output_type": "stream",
     "text": [
      "libraries imported\n"
     ]
    }
   ],
   "source": [
    "# Import the libraries\n",
    "import numpy as np\n",
    "from sklearn.datasets import make_blobs\n",
    "from sklearn.cluster import KMeans\n",
    "import matplotlib.pyplot as plt\n",
    "import seaborn as sns\n",
    "print(\"libraries imported\")"
   ]
  },
  {
   "cell_type": "code",
   "execution_count": 2,
   "id": "a7d391f4",
   "metadata": {},
   "outputs": [],
   "source": [
    "# create the dataset\n",
    "x, y = make_blobs(\n",
    "    n_samples=200,\n",
    "    n_features=2,\n",
    "    centers=3,\n",
    "    cluster_std=1,\n",
    "    random_state=0\n",
    ")"
   ]
  },
  {
   "cell_type": "code",
   "execution_count": 3,
   "id": "7d10eba4",
   "metadata": {},
   "outputs": [
    {
     "data": {
      "text/plain": [
       "array([[-1.73380769,  3.79806117],\n",
       "       [ 0.62835793,  4.4601363 ],\n",
       "       [ 1.1312175 ,  4.68194985],\n",
       "       [-1.42917905,  3.50083594],\n",
       "       [ 1.27450825,  5.63017322],\n",
       "       [-0.75365104,  1.73400162],\n",
       "       [ 2.5763324 ,  0.32187569],\n",
       "       [ 1.55723507,  2.82719571],\n",
       "       [ 1.10318217,  4.70577669],\n",
       "       [-1.71755751,  2.52303275],\n",
       "       [ 0.57309313,  5.5262324 ],\n",
       "       [-0.83313086,  2.75830882],\n",
       "       [ 1.7373078 ,  4.42546234],\n",
       "       [ 1.37227679,  3.21072582],\n",
       "       [ 0.06897171,  4.35573272],\n",
       "       [-0.95961374,  2.69520716],\n",
       "       [ 2.84159548,  0.43124456],\n",
       "       [ 2.19722068,  0.57833524],\n",
       "       [ 0.1631238 ,  2.57750473],\n",
       "       [-3.55758848,  4.98237512],\n",
       "       [-0.94838252,  3.26753672],\n",
       "       [ 1.3105127 ,  0.07122512],\n",
       "       [ 1.0220286 ,  4.11660348],\n",
       "       [ 1.92352205,  4.14877723],\n",
       "       [-3.78246824,  1.89537542],\n",
       "       [-0.63762777,  4.09104705],\n",
       "       [ 1.41164912, -1.32573949],\n",
       "       [-2.29104794,  1.48009079],\n",
       "       [-0.66898009,  4.05898413],\n",
       "       [-1.58853042,  2.81057699],\n",
       "       [ 1.44193252,  2.76754364],\n",
       "       [ 0.9867701 ,  6.08965782],\n",
       "       [-1.56907546,  2.63099507],\n",
       "       [ 0.5626511 ,  3.55633252],\n",
       "       [ 1.24190326, -0.56876067],\n",
       "       [ 2.57915855,  0.98608575],\n",
       "       [ 1.33263648,  5.0103605 ],\n",
       "       [ 2.33519212,  0.79951327],\n",
       "       [ 2.69539905, -0.71929238],\n",
       "       [-3.36997356,  2.43990826],\n",
       "       [ 1.11082127,  0.48761397],\n",
       "       [-2.1793126 ,  2.52692889],\n",
       "       [-3.29544246,  3.27336405],\n",
       "       [-0.83708585,  4.21972849],\n",
       "       [ 2.84382904,  5.20983199],\n",
       "       [ 2.20656076,  5.50616718],\n",
       "       [ 0.30193742,  4.33561789],\n",
       "       [-0.45839461,  2.46449646],\n",
       "       [-0.19685333,  6.24740851],\n",
       "       [ 1.0427873 ,  4.60625923],\n",
       "       [ 0.34194798,  3.94104616],\n",
       "       [ 1.92238694,  0.59987278],\n",
       "       [-2.17919761,  2.39669295],\n",
       "       [-1.68457103,  5.17460576],\n",
       "       [-1.63744467,  3.93805497],\n",
       "       [-1.88033576,  1.30140807],\n",
       "       [ 2.21177406,  1.1298447 ],\n",
       "       [ 2.97612635,  1.21639131],\n",
       "       [ 1.5528609 ,  4.09548857],\n",
       "       [ 2.46452227,  6.1996765 ],\n",
       "       [-2.86116248,  1.57116476],\n",
       "       [ 0.12123092,  3.08211002],\n",
       "       [ 0.94808785,  4.7321192 ],\n",
       "       [ 1.45795145,  0.65974193],\n",
       "       [ 1.68608568,  0.65828448],\n",
       "       [-1.24056032,  3.5267261 ],\n",
       "       [ 0.51447051,  0.96092565],\n",
       "       [ 1.1424453 ,  2.01467995],\n",
       "       [-1.48827346,  1.26116716],\n",
       "       [ 1.98702592,  2.61100638],\n",
       "       [ 1.74625455, -0.77834015],\n",
       "       [-0.09448254,  5.35823905],\n",
       "       [ 0.54111653,  6.15305106],\n",
       "       [-1.92635304,  3.28793815],\n",
       "       [-0.27652528,  5.08127768],\n",
       "       [-1.47740903,  3.41171904],\n",
       "       [ 1.59973502,  0.91514282],\n",
       "       [ 4.31457647,  0.85540651],\n",
       "       [ 1.09932252,  0.55168188],\n",
       "       [-4.18607625,  3.52420179],\n",
       "       [-2.15499157,  2.43685514],\n",
       "       [ 1.15369622,  3.90200639],\n",
       "       [ 0.87305123,  4.71438583],\n",
       "       [ 4.4384123 ,  1.84214315],\n",
       "       [ 2.57854418,  0.72611733],\n",
       "       [ 1.84070628,  3.56162231],\n",
       "       [ 0.4666179 ,  3.86571303],\n",
       "       [-1.89159756,  3.07458612],\n",
       "       [ 0.11504439,  6.21385228],\n",
       "       [ 2.22194102,  1.5326951 ],\n",
       "       [-2.68425927,  2.60559001],\n",
       "       [-0.77971568,  1.72893731],\n",
       "       [ 2.45431387, -1.8749291 ],\n",
       "       [ 0.10547293,  3.72493766],\n",
       "       [ 3.24329731,  1.21460627],\n",
       "       [ 0.70826671,  5.10624372],\n",
       "       [ 1.37861172,  3.61897724],\n",
       "       [-1.64506806,  2.23770406],\n",
       "       [-2.21474162,  1.70380486],\n",
       "       [ 2.74680627,  1.5924128 ],\n",
       "       [ 1.70127361, -0.47728763],\n",
       "       [ 2.50904929,  5.7731461 ],\n",
       "       [-2.00655983,  3.53824056],\n",
       "       [ 0.30380963,  3.94423417],\n",
       "       [-1.66060557,  3.99562607],\n",
       "       [-0.65392827,  4.76656958],\n",
       "       [ 3.15492712,  1.55292739],\n",
       "       [ 0.08080352,  4.69068983],\n",
       "       [-1.57671974,  4.95740592],\n",
       "       [ 1.31570453,  2.44067826],\n",
       "       [ 0.46546494,  3.12315514],\n",
       "       [-0.16237217,  2.22843308],\n",
       "       [ 0.73936011,  0.43607906],\n",
       "       [-0.0603253 ,  3.7704342 ],\n",
       "       [ 0.58894326,  4.00148458],\n",
       "       [ 1.42013331,  4.63746165],\n",
       "       [ 2.11567076,  3.06896151],\n",
       "       [ 3.00468833,  0.9852149 ],\n",
       "       [-2.12555795,  1.80198528],\n",
       "       [-1.54258612,  3.07881043],\n",
       "       [ 1.45895348,  0.84509636],\n",
       "       [ 1.59167155,  1.37914513],\n",
       "       [-0.88358955,  1.34725885],\n",
       "       [ 1.35269561,  3.20438654],\n",
       "       [ 1.4178305 ,  0.50039185],\n",
       "       [-0.07228289,  2.88376939],\n",
       "       [-3.2827946 ,  3.36881672],\n",
       "       [ 0.11898772,  1.08644226],\n",
       "       [-2.65372982,  2.18720451],\n",
       "       [ 1.59034945,  5.225994  ],\n",
       "       [-1.24646231,  1.92475865],\n",
       "       [ 1.02102468,  1.57925818],\n",
       "       [ 0.63120661,  0.40434378],\n",
       "       [ 0.56400993,  1.33705536],\n",
       "       [ 1.64856484,  4.71124916],\n",
       "       [ 1.74438135,  0.99506383],\n",
       "       [ 1.956815  ,  0.23418537],\n",
       "       [ 1.9263585 ,  4.15243012],\n",
       "       [ 1.05505217, -0.64710744],\n",
       "       [-1.03316224,  2.80177832],\n",
       "       [-1.66285371,  4.05477362],\n",
       "       [-1.96782665,  2.63752677],\n",
       "       [ 2.47034915,  4.09862906],\n",
       "       [ 0.86640826,  0.39084731],\n",
       "       [ 2.91209813,  0.24663807],\n",
       "       [ 0.66471755,  4.35995267],\n",
       "       [-2.23160429,  3.86114299],\n",
       "       [-2.83343086,  4.57601294],\n",
       "       [ 0.95088418,  0.94982874],\n",
       "       [ 0.340424  ,  4.98022062],\n",
       "       [ 2.0159847 , -0.27042984],\n",
       "       [-2.57215738,  4.12902755],\n",
       "       [-2.21895386,  4.45425932],\n",
       "       [-2.51241475,  1.44604725],\n",
       "       [ 1.70536064,  4.43277024],\n",
       "       [ 4.21850347,  2.23419161],\n",
       "       [ 2.82705807,  1.72116781],\n",
       "       [ 1.51240605,  1.31371371],\n",
       "       [ 0.28170222,  4.15415279],\n",
       "       [-0.18887976,  5.20461381],\n",
       "       [ 0.77701268,  1.85786644],\n",
       "       [-0.68527275,  2.66842368],\n",
       "       [-1.25238766,  2.02696718],\n",
       "       [-1.91178382,  3.01223385],\n",
       "       [ 2.15504965,  4.12386249],\n",
       "       [-0.29421492,  5.27318404],\n",
       "       [ 2.0309414 ,  0.15963275],\n",
       "       [-0.76024083,  3.27417508],\n",
       "       [ 2.03824711,  1.2768154 ],\n",
       "       [ 0.76241061,  1.16471453],\n",
       "       [ 0.08848433,  2.32299086],\n",
       "       [ 2.68049897, -0.704394  ],\n",
       "       [-0.73000011,  6.25456272],\n",
       "       [ 3.20759909,  1.97728225],\n",
       "       [-0.86052093,  2.45716247],\n",
       "       [-0.82844686,  2.92165315],\n",
       "       [ 2.85942078,  2.95602827],\n",
       "       [-3.22500983,  3.30516274],\n",
       "       [ 0.206354  ,  4.84303652],\n",
       "       [ 0.829832  ,  1.74202664],\n",
       "       [ 1.18454506,  5.28042636],\n",
       "       [-1.79463755,  1.78987093],\n",
       "       [ 2.48152625,  1.57457169],\n",
       "       [ 4.01117983,  1.28775698],\n",
       "       [ 3.54975207, -1.17232137],\n",
       "       [ 3.2460247 ,  2.84942165],\n",
       "       [-2.2465084 ,  2.10488927],\n",
       "       [ 0.90779887,  0.45984362],\n",
       "       [ 1.12031365,  5.75806083],\n",
       "       [ 2.89921211,  5.78430212],\n",
       "       [-0.59505564,  3.25784725],\n",
       "       [-1.81874138,  2.15639005],\n",
       "       [ 0.47232912,  1.50804304],\n",
       "       [ 1.25185786,  0.20811388],\n",
       "       [ 0.89908509,  1.67886176],\n",
       "       [ 3.18190344, -0.18226785],\n",
       "       [-2.21091491,  4.57743306],\n",
       "       [ 2.96544643,  1.21488188],\n",
       "       [ 1.28933778,  3.44969159],\n",
       "       [ 1.32967014, -0.4857003 ]])"
      ]
     },
     "execution_count": 3,
     "metadata": {},
     "output_type": "execute_result"
    }
   ],
   "source": [
    "x"
   ]
  },
  {
   "cell_type": "code",
   "execution_count": 4,
   "id": "030d5233",
   "metadata": {},
   "outputs": [
    {
     "data": {
      "text/plain": [
       "array([2, 0, 0, 2, 0, 2, 1, 1, 0, 2, 0, 2, 0, 0, 0, 2, 1, 1, 0, 2, 2, 1,\n",
       "       0, 0, 2, 0, 1, 2, 2, 2, 0, 0, 2, 0, 1, 1, 0, 1, 1, 2, 1, 2, 2, 2,\n",
       "       0, 0, 0, 2, 0, 0, 0, 1, 2, 2, 2, 2, 1, 1, 0, 0, 2, 2, 0, 1, 1, 2,\n",
       "       1, 1, 2, 1, 1, 0, 0, 2, 0, 2, 1, 1, 1, 2, 2, 0, 0, 1, 1, 0, 0, 2,\n",
       "       0, 1, 2, 2, 1, 0, 1, 0, 0, 2, 2, 1, 1, 0, 2, 0, 2, 0, 1, 0, 0, 1,\n",
       "       0, 2, 1, 2, 0, 0, 0, 1, 2, 2, 1, 1, 2, 0, 1, 0, 2, 1, 2, 0, 2, 1,\n",
       "       1, 1, 0, 1, 1, 0, 1, 2, 2, 2, 0, 1, 1, 0, 2, 2, 1, 0, 1, 2, 2, 2,\n",
       "       0, 1, 1, 1, 0, 0, 2, 2, 2, 2, 0, 0, 1, 2, 1, 1, 0, 1, 0, 1, 2, 2,\n",
       "       0, 2, 0, 1, 0, 2, 1, 1, 1, 0, 2, 1, 0, 0, 2, 2, 1, 1, 1, 1, 2, 1,\n",
       "       0, 1])"
      ]
     },
     "execution_count": 4,
     "metadata": {},
     "output_type": "execute_result"
    }
   ],
   "source": [
    "y"
   ]
  },
  {
   "cell_type": "code",
   "execution_count": 5,
   "id": "691a1395",
   "metadata": {},
   "outputs": [
    {
     "data": {
      "text/plain": [
       "<matplotlib.collections.PathCollection at 0x7fe3456862b0>"
      ]
     },
     "execution_count": 5,
     "metadata": {},
     "output_type": "execute_result"
    },
    {
     "data": {
      "image/png": "[encoded data removed]",
      "text/plain": [
       "<Figure size 432x288 with 1 Axes>"
      ]
     },
     "metadata": {
      "needs_background": "light"
     },
     "output_type": "display_data"
    }
   ],
   "source": [
    "# plot \n",
    "plt.scatter(\n",
    "    x[:, 0], x[:, 1],\n",
    "    c='white',\n",
    "    edgecolors='black'\n",
    ")"
   ]
  },
  {
   "cell_type": "code",
   "execution_count": 6,
   "id": "eba8672c",
   "metadata": {},
   "outputs": [],
   "source": [
    "# Kmeans model initialisation\n",
    "kmeans = KMeans(\n",
    "    n_clusters=3, init='random',\n",
    "    n_init=1, max_iter=4, \n",
    "    tol=1e-04, random_state=2\n",
    ")"
   ]
  },
  {
   "cell_type": "code",
   "execution_count": 7,
   "id": "b86bd244",
   "metadata": {},
   "outputs": [],
   "source": [
    "# Model Training and Prediction\n",
    "y_km = kmeans.fit_predict(x)"
   ]
  },
  {
   "cell_type": "code",
   "execution_count": 8,
   "id": "6d837240",
   "metadata": {},
   "outputs": [
    {
     "data": {
      "text/plain": [
       "array([1, 2, 2, 1, 2, 1, 0, 2, 2, 1, 2, 1, 2, 2, 2, 1, 0, 0, 1, 1, 1, 0,\n",
       "       2, 2, 1, 1, 0, 1, 1, 1, 2, 2, 1, 2, 0, 0, 2, 0, 0, 1, 0, 1, 1, 1,\n",
       "       2, 2, 2, 1, 2, 2, 2, 0, 1, 1, 1, 1, 0, 0, 2, 2, 1, 1, 2, 0, 0, 1,\n",
       "       0, 0, 1, 2, 0, 2, 2, 1, 2, 1, 0, 0, 0, 1, 1, 2, 2, 0, 0, 2, 2, 1,\n",
       "       2, 0, 1, 1, 0, 2, 0, 2, 2, 1, 1, 0, 0, 2, 1, 2, 1, 1, 0, 2, 1, 0,\n",
       "       2, 1, 0, 1, 2, 2, 2, 0, 1, 1, 0, 0, 1, 2, 0, 1, 1, 0, 1, 2, 1, 0,\n",
       "       0, 0, 2, 0, 0, 2, 0, 1, 1, 1, 2, 0, 0, 2, 1, 1, 0, 2, 0, 1, 1, 1,\n",
       "       2, 0, 0, 0, 2, 2, 0, 1, 1, 1, 2, 2, 0, 1, 0, 0, 1, 0, 2, 0, 1, 1,\n",
       "       2, 1, 2, 0, 2, 1, 0, 0, 0, 2, 1, 0, 2, 2, 1, 1, 0, 0, 0, 0, 1, 0,\n",
       "       2, 0], dtype=int32)"
      ]
     },
     "execution_count": 8,
     "metadata": {},
     "output_type": "execute_result"
    }
   ],
   "source": [
    "y_km"
   ]
  },
  {
   "cell_type": "code",
   "execution_count": 9,
   "id": "51874a10",
   "metadata": {},
   "outputs": [
    {
     "data": {
      "text/plain": [
       "<matplotlib.legend.Legend at 0x7fe345765b50>"
      ]
     },
     "execution_count": 9,
     "metadata": {},
     "output_type": "execute_result"
    },
    {
     "data": {
      "image/png": "[encoded data removed]",
      "text/plain": [
       "<Figure size 432x288 with 1 Axes>"
      ]
     },
     "metadata": {
      "needs_background": "light"
     },
     "output_type": "display_data"
    }
   ],
   "source": [
    "# plot the 3 clusters\n",
    "plt.scatter(\n",
    "    x[y_km == 0, 0], x[y_km == 0, 1],\n",
    "    s=50, c='lightgreen',\n",
    "    marker='s', edgecolor='black',\n",
    "    label='cluster 1'\n",
    ")\n",
    "\n",
    "plt.scatter(\n",
    "    x[y_km == 1, 0], x[y_km == 1, 1],\n",
    "    s=50, c='orange',\n",
    "    marker='o', edgecolor='black',\n",
    "    label='cluster 2'\n",
    ")\n",
    "\n",
    "plt.scatter(\n",
    "    x[y_km == 2, 0], x[y_km == 2, 1],\n",
    "    s=50, c='lightblue',\n",
    "    marker='v', edgecolor='black',\n",
    "    label='cluster 3'\n",
    ")\n",
    "\n",
    "# plot the centroids\n",
    "plt.scatter(\n",
    "    kmeans.cluster_centers_[:, 0], kmeans.cluster_centers_[:, 1],\n",
    "    s=250, marker='*',\n",
    "    c='red', edgecolor='black',\n",
    "    label='centroids'\n",
    ")\n",
    "plt.legend(scatterpoints=1)"
   ]
  },
  {
   "cell_type": "code",
   "execution_count": 10,
   "id": "5af2cab1",
   "metadata": {},
   "outputs": [
    {
     "data": {
      "image/png": "[encoded data removed]",
      "text/plain": [
       "<Figure size 504x504 with 1 Axes>"
      ]
     },
     "metadata": {},
     "output_type": "display_data"
    }
   ],
   "source": [
    "import numpy as np\n",
    "\n",
    "np.random.seed(42)\n",
    "\n",
    "kmeans = KMeans(\n",
    "    n_clusters=3, init='random',\n",
    "    n_init=1, max_iter=8, \n",
    "    tol=1e-04, random_state=2\n",
    ")\n",
    "kmeans.fit(x)\n",
    "\n",
    "# Step size of the mesh. Decrease to increase the quality of the VQ.\n",
    "h = .01     # point in the mesh [x_min, x_max]x[y_min, y_max].\n",
    "\n",
    "# Plot the decision boundary. For that, we will assign a color to each\n",
    "x_min, x_max = x[:, 0].min() - 1, x[:, 0].max() + 1\n",
    "y_min, y_max = x[:, 1].min() - 1, x[:, 1].max() + 1\n",
    "xx, yy = np.meshgrid(np.arange(x_min, x_max, h), np.arange(y_min, y_max, h))\n",
    "\n",
    "# Obtain labels for each point in mesh. Use last trained model.\n",
    "z = kmeans.predict(np.c_[xx.ravel(), yy.ravel()])\n",
    "y_km = kmeans.fit_predict(x)\n",
    "\n",
    "# Put the result into a color plot\n",
    "z = z.reshape(xx.shape)\n",
    "plt.clf()\n",
    "plt.imshow(z, interpolation='nearest',\n",
    "           extent=(xx.min(), xx.max(), yy.min(), yy.max()),\n",
    "           cmap=plt.cm.Paired,\n",
    "           aspect='auto', origin='lower')\n",
    "\n",
    "\n",
    "# plot the 3 clusters\n",
    "plt.scatter(\n",
    "    x[y_km == 0, 0], x[y_km == 0, 1],\n",
    "    s=50, c='lightgreen',\n",
    "    marker='s', edgecolor='black',\n",
    "    label='cluster 1'\n",
    ")\n",
    "\n",
    "plt.scatter(\n",
    "    x[y_km == 1, 0], x[y_km == 1, 1],\n",
    "    s=50, c='orange',\n",
    "    marker='o', edgecolor='black',\n",
    "    label='cluster 2'\n",
    ")\n",
    "\n",
    "plt.scatter(\n",
    "    x[y_km == 2, 0], x[y_km == 2, 1],\n",
    "    s=50, c='lightblue',\n",
    "    marker='v', edgecolor='black',\n",
    "    label='cluster 3'\n",
    ")\n",
    "\n",
    "# plot the centroids\n",
    "plt.scatter(\n",
    "    kmeans.cluster_centers_[:, 0], kmeans.cluster_centers_[:, 1],\n",
    "    s=250, marker='*',\n",
    "    c='red', edgecolor='black',\n",
    "    label='centroids'\n",
    ")\n",
    "plt.legend(scatterpoints=1)\n",
    "\n",
    "plt.xlim(x_min, x_max)\n",
    "plt.ylim(y_min, y_max)\n",
    "plt.xticks(())\n",
    "plt.yticks(())\n",
    "fig = plt.gcf()\n",
    "fig.set_size_inches(7, 7)\n",
    "plt.show()"
   ]
  },
  {
   "cell_type": "code",
   "execution_count": null,
   "id": "57ca3259",
   "metadata": {},
   "outputs": [],
   "source": []
  }
 ],
 "metadata": {
  "kernelspec": {
   "display_name": "Python 3",
   "language": "python",
   "name": "python3"
  },
  "language_info": {
   "codemirror_mode": {
    "name": "ipython",
    "version": 3
   },
   "file_extension": ".py",
   "mimetype": "text/x-python",
   "name": "python",
   "nbconvert_exporter": "python",
   "pygments_lexer": "ipython3",
   "version": "3.8.8"
  }
 },
 "nbformat": 4,
 "nbformat_minor": 5
}
