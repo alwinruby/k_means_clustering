{
 "cells": [
  {
   "cell_type": "markdown",
   "metadata": {},
   "source": [
    "1. Write out pseudocode for the algorithm\n",
    "2. Code the k-means algorithm\n",
    "3. Plot the clusters from the algorithm\n",
    "4. Compare performance to the scikit-learn algorithm"
   ]
  },
  {
   "cell_type": "markdown",
   "metadata": {},
   "source": [
    "To run a k-means clustering:\n",
    "\n",
    "1. Specify the number of clusters you want (usually referred to as k).\n",
    "2. Randomly initialize the centroid for each cluster. The centroid is the data point that is in the center of the cluster.\n",
    "3. Determine which data points belong to which cluster by finding the closest centroid to each data point.\n",
    "4. Update the centroids based on the geometric mean of all the data points in the cluster.\n",
    "5. Run 3 and 4 until the centroids stop changing. Each run is referred to as an iteration."
   ]
  },
  {
   "cell_type": "code",
   "execution_count": null,
   "metadata": {},
   "outputs": [],
   "source": []
  }
 ],
 "metadata": {
  "kernelspec": {
   "display_name": "Python 3",
   "language": "python",
   "name": "python3"
  },
  "language_info": {
   "codemirror_mode": {
    "name": "ipython",
    "version": 3
   },
   "file_extension": ".py",
   "mimetype": "text/x-python",
   "name": "python",
   "nbconvert_exporter": "python",
   "pygments_lexer": "ipython3",
   "version": "3.8.3"
  }
 },
 "nbformat": 4,
 "nbformat_minor": 4
}
